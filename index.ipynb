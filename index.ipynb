{
 "cells": [
  {
   "cell_type": "markdown",
   "metadata": {},
   "source": [
    "# A/B Testing - Lab\n",
    "\n",
    "## Introduction\n",
    "\n",
    "In this lab, you'll go through a the process of designing an experiment.\n",
    "\n",
    "## Objectives\n",
    "You will be able to:\n",
    "\n",
    "* Design, structure, and run an A/B test\n",
    "\n",
    "\n",
    "## The Scenario\n",
    "\n",
    "You've been tasked with designing an experiment to test whether a new email template will be more effective for your company's marketing team. The current template has a 5% response rate (with standard deviation .0475), which has outperformed numerous other templates in the past. The company is excited to test the new design that was developed internally, but nervous about losing sales if it is not to work out. As a result, they are looking to determine how many individuals they will need to serve the new email template to in order to detect a 1% performance increase (or decrease).\n",
    "\n",
    "\n",
    "## Step 1: State the Null Hypothesis, $H_0$"
   ]
  },
  {
   "cell_type": "markdown",
   "metadata": {},
   "source": [
    "State your null hypothesis here (be sure to make it quantitative as before)"
   ]
  },
  {
   "cell_type": "code",
   "execution_count": null,
   "metadata": {},
   "outputs": [],
   "source": [
    "# h_0 = Your null hypothesis"
   ]
  },
  {
   "cell_type": "markdown",
   "metadata": {},
   "source": [
    "## Step 2: State the Alternative Hypothesis, $H_1$"
   ]
  },
  {
   "cell_type": "markdown",
   "metadata": {},
   "source": [
    "State your alternative hypothesis here (be sure to make it quantitative as before)"
   ]
  },
  {
   "cell_type": "code",
   "execution_count": null,
   "metadata": {},
   "outputs": [],
   "source": [
    "# h_1 = Your alternative hypothesis"
   ]
  },
  {
   "cell_type": "markdown",
   "metadata": {},
   "source": [
    "## Step 3: Calculate n for standard alpha and power thresholds\n",
    "\n",
    "Now define what alpha and beta you believe might be appropriate for this scenario.\n",
    "To start, arbitrarily set alpha to 0.05. From this, calculate the required sample size to detect a .01 response rate difference at a power of .8.\n",
    "\n",
    "> Note: Be sure to calculate a normalized effect size using Cohen's d from the raw response rate difference."
   ]
  },
  {
   "cell_type": "code",
   "execution_count": 4,
   "metadata": {},
   "outputs": [
    {
     "data": {
      "text/plain": [
       "355.1427544342681"
      ]
     },
     "execution_count": 4,
     "metadata": {},
     "output_type": "execute_result"
    }
   ],
   "source": [
    "# Calculate the required sample size\n",
    "from statsmodels.stats.power import TTestIndPower\n",
    "\n",
    "sd = 0.0475\n",
    "\n",
    "power_analysis = TTestIndPower()\n",
    "power_analysis.solve_power(power=0.8, effect_size=0.01/sd, alpha=0.05)"
   ]
  },
  {
   "cell_type": "markdown",
   "metadata": {},
   "source": [
    "## Step 4: Plot Power Curves for Alternative Experiment Formulations\n",
    "\n",
    "While you now know how many observations you need in order to run a t-test for the given formulation above, its worth exploring what sample sizes would be required for alternative test formulations. For example, how much does the required sample size increase if you put the more stringent criteria of $\\alpha=.01$? Or what is the sample size required to detect a .03 response rate difference at the same $\\alpha$ and power thresholds? To investigate this, plot power vs sample size curves for alpha values of .01, .05 and .1 along with varying response rate differences of .005, .01, .02 and .03."
   ]
  },
  {
   "cell_type": "code",
   "execution_count": 21,
   "metadata": {},
   "outputs": [
    {
     "name": "stderr",
     "output_type": "stream",
     "text": [
      "/opt/conda/envs/learn-env/lib/python3.6/site-packages/statsmodels/stats/power.py:554: RuntimeWarning: divide by zero encountered in double_scalars\n",
      "  nobs = 1./ (1. / nobs1 + 1. / nobs2)\n"
     ]
    },
    {
     "data": {
      "text/plain": [
       "<matplotlib.legend.Legend at 0x7f56b900e518>"
      ]
     },
     "execution_count": 21,
     "metadata": {},
     "output_type": "execute_result"
    },
    {
     "data": {
      "image/png": "[encoded data removed]",
      "text/plain": [
       "<Figure size 432x288 with 2 Axes>"
      ]
     },
     "metadata": {
      "needs_background": "light"
     },
     "output_type": "display_data"
    }
   ],
   "source": [
    "#Your code; plot power curves for the various alpha and effect size combinations\n",
    "alpha_set = [.01, .05, .1]\n",
    "response_rate_set = [.005, .01, .02, .03]\n",
    "\n",
    "import numpy as np\n",
    "import matplotlib.pyplot as plt\n",
    "\n",
    "sample_limit = 1000\n",
    "\n",
    "f, (ax1, ax2) = plt.subplots(2, sharex=True, sharey=True)\n",
    "\n",
    "xs = np.linspace(0, sample_limit-1, sample_limit)\n",
    "ys1 = np.linspace(0, sample_limit, sample_limit)\n",
    "ys2 = np.linspace(0, sample_limit, sample_limit)\n",
    "for a in alpha_set:\n",
    "    for i in xs:\n",
    "        ys1[int(i)] = power_analysis.solve_power(effect_size=0.01/sd, alpha=a, nobs1=i)\n",
    "    ax1.plot(xs,ys1, label='Alpha ' + str(a))\n",
    "        \n",
    "for r in response_rate_set:\n",
    "    for i in xs:\n",
    "        ys2[int(i)] = power_analysis.solve_power(effect_size=r/sd, alpha=0.05, nobs1=i)\n",
    "    ax2.plot(xs,ys1, label='Response Rate ' + str(r))\n",
    "\n",
    "#plt.plot(xs,ys2)\n",
    "ax1.legend()\n",
    "ax2.legend()"
   ]
  },
  {
   "cell_type": "markdown",
   "metadata": {},
   "source": [
    "## Step 5: Propose a Final Experimental Design\n",
    "\n",
    "Finally, now that you've explored some of the various sample sizes required for statistical tests of varying power, effect size and type I errors, propose an experimental design to pitch to your boss and some of the accompanying advantages or disadvantages with it."
   ]
  },
  {
   "cell_type": "markdown",
   "metadata": {},
   "source": [
    "### Your answer here"
   ]
  },
  {
   "cell_type": "code",
   "execution_count": null,
   "metadata": {},
   "outputs": [],
   "source": []
  },
  {
   "cell_type": "markdown",
   "metadata": {},
   "source": [
    "## Summary\n",
    "\n",
    "In this lab, you practiced designing an initial experiment and then refined the parameters of the experiment based on an initial sample to determine feasibility."
   ]
  }
 ],
 "metadata": {
  "kernelspec": {
   "display_name": "Python 3",
   "language": "python",
   "name": "python3"
  },
  "language_info": {
   "codemirror_mode": {
    "name": "ipython",
    "version": 3
   },
   "file_extension": ".py",
   "mimetype": "text/x-python",
   "name": "python",
   "nbconvert_exporter": "python",
   "pygments_lexer": "ipython3",
   "version": "3.6.6"
  }
 },
 "nbformat": 4,
 "nbformat_minor": 2
}
